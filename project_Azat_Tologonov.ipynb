{
 "cells": [
  {
   "cell_type": "code",
   "execution_count": null,
   "id": "9a491a34-aa34-4875-8ac9-1b961a9fd6e2",
   "metadata": {},
   "outputs": [],
   "source": [
    "import pandas as pd\n",
    "import numpy as np\n",
    "import sys\n",
    "import sklearn\n",
    "import io\n",
    "import random"
   ]
  },
  {
   "cell_type": "code",
   "execution_count": null,
   "id": "cb565310-ba72-49f2-8ed2-2815e52051c9",
   "metadata": {},
   "outputs": [],
   "source": [
    "train_nsl_kdd_dataset_path = \"KDDTrain+.txt\"\n",
    "test_nsl_kdd_dataset_path = \"KDDTest+.txt\""
   ]
  },
  {
   "cell_type": "code",
   "execution_count": null,
   "id": "09e97f4d-2641-47d0-aece-f4bab9475a59",
   "metadata": {},
   "outputs": [],
   "source": [
    "col_names = [\"duration\",\"protocol_type\",\"service\",\"flag\",\"src_bytes\",\n",
    "    \"dst_bytes\",\"land\",\"wrong_fragment\",\"urgent\",\"hot\",\"num_failed_logins\",\n",
    "    \"logged_in\",\"num_compromised\",\"root_shell\",\"su_attempted\",\"num_root\",\n",
    "    \"num_file_creations\",\"num_shells\",\"num_access_files\",\"num_outbound_cmds\",\n",
    "    \"is_host_login\",\"is_guest_login\",\"count\",\"srv_count\",\"serror_rate\",\n",
    "    \"srv_serror_rate\",\"rerror_rate\",\"srv_rerror_rate\",\"same_srv_rate\",\n",
    "    \"diff_srv_rate\",\"srv_diff_host_rate\",\"dst_host_count\",\"dst_host_srv_count\",\n",
    "    \"dst_host_same_srv_rate\",\"dst_host_diff_srv_rate\",\"dst_host_same_src_port_rate\",\n",
    "    \"dst_host_srv_diff_host_rate\",\"dst_host_serror_rate\",\"dst_host_srv_serror_rate\",\n",
    "    \"dst_host_rerror_rate\",\"dst_host_srv_rerror_rate\",\"label\", \"difficulty_level\"]\n",
    "\n",
    "df = pd.read_csv(train_nsl_kdd_dataset_path,header=None, names = col_names)\n",
    "\n",
    "df_test = pd.read_csv(test_nsl_kdd_dataset_path, header=None, names = col_names)\n",
    "\n",
    "print('Dimensions of the Training set:',df.shape)\n",
    "print('Dimensions of the Test set:',df_test.shape)"
   ]
  },
  {
   "cell_type": "code",
   "execution_count": null,
   "id": "87b9caaa-77e4-4497-aad0-087e0e5dbd6a",
   "metadata": {},
   "outputs": [],
   "source": [
    "pd.set_option(\"display.max_columns\", None)"
   ]
  },
  {
   "cell_type": "code",
   "execution_count": null,
   "id": "b8249e00-02ea-4574-919a-cec023c7e573",
   "metadata": {},
   "outputs": [],
   "source": [
    "df = df.drop(columns='difficulty_level')\n",
    "df_test = df_test.drop(columns='difficulty_level')"
   ]
  },
  {
   "cell_type": "code",
   "execution_count": null,
   "id": "8404b216-0e83-4133-81d2-87447052000d",
   "metadata": {},
   "outputs": [],
   "source": [
    "df = df.replace({'label' : {'^(?!normal).*$': 'anomaly'}}, regex=True)"
   ]
  },
  {
   "cell_type": "code",
   "execution_count": null,
   "id": "452fbbd9-541e-4dbd-9fcc-32220ba594ba",
   "metadata": {},
   "outputs": [],
   "source": [
    "df_test = df_test.replace({'label' : {'^(?!normal).*$': 'anomaly'}}, regex=True)"
   ]
  },
  {
   "cell_type": "code",
   "execution_count": null,
   "id": "216b01f3-3428-4a7e-aec1-d055c4eef6fb",
   "metadata": {},
   "outputs": [],
   "source": [
    "df['protocol_type'].value_counts()"
   ]
  },
  {
   "cell_type": "code",
   "execution_count": null,
   "id": "6c3924ad-2bab-491a-a85a-6220b76a6a46",
   "metadata": {},
   "outputs": [],
   "source": [
    "pd.crosstab(df_test['num_outbound_cmds'], df_test['label'])"
   ]
  },
  {
   "cell_type": "code",
   "execution_count": null,
   "id": "776f64c9-b890-4c68-b7f4-8ee448e73872",
   "metadata": {},
   "outputs": [],
   "source": [
    "df = df.drop(columns='num_outbound_cmds')\n",
    "df_test = df_test.drop(columns='num_outbound_cmds')"
   ]
  },
  {
   "cell_type": "code",
   "execution_count": null,
   "id": "3e1f93f4-d74f-4ae5-8f7c-a626d2e52c48",
   "metadata": {},
   "outputs": [],
   "source": [
    "df[['protocol_type', 'service', 'flag']].head()"
   ]
  },
  {
   "cell_type": "code",
   "execution_count": null,
   "id": "911551f3-6287-43f4-9b34-4d52ca45b1be",
   "metadata": {},
   "outputs": [],
   "source": [
    "from sklearn.preprocessing import LabelEncoder,OneHotEncoder\n",
    "categorical_columns=['protocol_type', 'service', 'flag']\n",
    "df_categorical_values = df[categorical_columns]\n",
    "testdf_categorical_values = df_test[categorical_columns]\n"
   ]
  },
  {
   "cell_type": "code",
   "execution_count": null,
   "id": "9a85d986-9cc9-445d-ad29-ad3cafe2e949",
   "metadata": {},
   "outputs": [],
   "source": [
    "# protocol type\n",
    "unique_protocol=sorted(df.protocol_type.unique())\n",
    "string1 = 'Protocol_type_'\n",
    "unique_protocol2=[string1 + x for x in unique_protocol]\n",
    "print(unique_protocol2)\n",
    "\n",
    "# service\n",
    "unique_service=sorted(df.service.unique())\n",
    "string2 = 'service_'\n",
    "unique_service2=[string2 + x for x in unique_service]\n",
    "print(unique_service2)\n",
    "\n",
    "\n",
    "# flag\n",
    "unique_flag=sorted(df.flag.unique())\n",
    "string3 = 'flag_'\n",
    "unique_flag2=[string3 + x for x in unique_flag]\n",
    "print(unique_flag2)\n",
    "\n",
    "\n",
    "# put together\n",
    "dumcols=unique_protocol2 + unique_service2 + unique_flag2\n",
    "\n",
    "\n",
    "#do it for test set\n",
    "unique_service_test=sorted(df_test.service.unique())\n",
    "unique_service2_test=[string2 + x for x in unique_service_test]\n",
    "testdumcols=unique_protocol2 + unique_service2_test + unique_flag2"
   ]
  },
  {
   "cell_type": "code",
   "execution_count": null,
   "id": "b5ef5cc0-96dc-44a5-94f1-09fae0fa319a",
   "metadata": {},
   "outputs": [],
   "source": [
    "df_categorical_values_enc=df_categorical_values.apply(LabelEncoder().fit_transform)\n",
    "\n",
    "print(df_categorical_values.head())\n",
    "print('--------------------')\n",
    "print(df_categorical_values_enc.head())\n",
    "\n",
    "# test set\n",
    "testdf_categorical_values_enc=testdf_categorical_values.apply(LabelEncoder().fit_transform)"
   ]
  },
  {
   "cell_type": "code",
   "execution_count": null,
   "id": "b9fc4c10-daa0-491d-97e4-0e82785893dd",
   "metadata": {},
   "outputs": [],
   "source": [
    "\n",
    "enc = OneHotEncoder(categories='auto')\n",
    "df_categorical_values_encenc = enc.fit_transform(df_categorical_values_enc)\n",
    "df_cat_data = pd.DataFrame(df_categorical_values_encenc.toarray(),columns=dumcols)\n",
    "\n",
    "\n",
    "# test set\n",
    "testdf_categorical_values_encenc = enc.fit_transform(testdf_categorical_values_enc)\n",
    "testdf_cat_data = pd.DataFrame(testdf_categorical_values_encenc.toarray(),columns=testdumcols)\n",
    "\n",
    "df_cat_data.head()"
   ]
  },
  {
   "cell_type": "code",
   "execution_count": null,
   "id": "900e7db4-394b-4137-b4ec-047011aa7c61",
   "metadata": {},
   "outputs": [],
   "source": [
    "trainservice=df['service'].tolist()\n",
    "testservice= df_test['service'].tolist()\n",
    "difference=list(set(trainservice) - set(testservice))\n",
    "string = 'service_'\n",
    "difference=[string + x for x in difference]\n",
    "difference"
   ]
  },
  {
   "cell_type": "code",
   "execution_count": null,
   "id": "41470006-b683-41b3-98f0-1244242d018e",
   "metadata": {},
   "outputs": [],
   "source": [
    "for col in difference:\n",
    "    testdf_cat_data[col] = 0\n",
    "\n",
    "print(df_cat_data.shape)    \n",
    "print(testdf_cat_data.shape)"
   ]
  },
  {
   "cell_type": "code",
   "execution_count": null,
   "id": "11a8fca1-237f-4cbd-a20a-81ed18b392f2",
   "metadata": {},
   "outputs": [],
   "source": [
    "print(df.shape)"
   ]
  },
  {
   "cell_type": "code",
   "execution_count": null,
   "id": "fbe2b213-579b-49c1-94ec-70364138c14f",
   "metadata": {},
   "outputs": [],
   "source": [
    "print(df_test.shape)"
   ]
  },
  {
   "cell_type": "code",
   "execution_count": null,
   "id": "153e1174-9116-4587-b500-cd4f9acdcc1b",
   "metadata": {},
   "outputs": [],
   "source": [
    "difference = list(set(testservice) - set(trainservice))\n",
    "string = 'service_'\n",
    "difference = [string + x for x in difference]\n",
    "difference"
   ]
  },
  {
   "cell_type": "code",
   "execution_count": null,
   "id": "a1aacd8a-399d-4739-b418-c3cc877353d3",
   "metadata": {},
   "outputs": [],
   "source": [
    "for col in difference:\n",
    "    df_cat_data[col] = 0\n",
    "    \n",
    "print(df_cat_data.shape)    \n",
    "print(testdf_cat_data.shape)"
   ]
  },
  {
   "cell_type": "code",
   "execution_count": null,
   "id": "2b4feae7-4e7d-4a5d-a44e-35c40e1870a9",
   "metadata": {},
   "outputs": [],
   "source": [
    "newdf=df.join(df_cat_data)\n",
    "newdf.drop('flag', axis=1, inplace=True)\n",
    "newdf.drop('protocol_type', axis=1, inplace=True)\n",
    "newdf.drop('service', axis=1, inplace=True)\n",
    "\n",
    "# test data\n",
    "newdf_test=df_test.join(testdf_cat_data)\n",
    "newdf_test.drop('flag', axis=1, inplace=True)\n",
    "newdf_test.drop('protocol_type', axis=1, inplace=True)\n",
    "newdf_test.drop('service', axis=1, inplace=True)\n",
    "\n",
    "print(newdf.shape)\n",
    "print(newdf_test.shape)"
   ]
  },
  {
   "cell_type": "code",
   "execution_count": null,
   "id": "6f4b03c1-35b9-4f16-afc3-6b630ecec249",
   "metadata": {},
   "outputs": [],
   "source": [
    "x_train = newdf.drop('label', 1)\n",
    "y_train = newdf.label\n",
    "\n",
    "x_test = newdf_test.drop('label', 1)\n",
    "y_test = newdf_test.label"
   ]
  },
  {
   "cell_type": "code",
   "execution_count": null,
   "id": "1b291019-f908-453d-8584-6bd80cf053e3",
   "metadata": {},
   "outputs": [],
   "source": [
    "colNames=list(x_train)\n",
    "colNames_test=list(x_test)"
   ]
  },
  {
   "cell_type": "code",
   "execution_count": null,
   "id": "c34f5c7e-e7c3-4ff9-814f-6f108f9f8411",
   "metadata": {},
   "outputs": [],
   "source": [
    "from sklearn import preprocessing\n",
    "\n",
    "scaler1 = preprocessing.StandardScaler().fit(x_train)\n",
    "x_train=scaler1.transform(x_train)\n",
    "\n",
    "scaler2 = preprocessing.StandardScaler().fit(x_test)\n",
    "x_test=scaler2.transform(x_test)"
   ]
  },
  {
   "cell_type": "code",
   "execution_count": null,
   "id": "188a8a1c-6d73-4b99-b9a5-6e57a4ebe5dd",
   "metadata": {},
   "outputs": [],
   "source": [
    "y_train = y_train.replace({'normal': 0, 'anomaly': 1})\n",
    "y_test = y_test.replace({'normal': 0, 'anomaly': 1})"
   ]
  },
  {
   "cell_type": "code",
   "execution_count": null,
   "id": "399eab07-6006-4974-b4f1-b2dd775d5daf",
   "metadata": {},
   "outputs": [],
   "source": [
    "from sklearn.ensemble import RandomForestClassifier\n",
    "from sklearn.svm import SVC\n",
    "from sklearn.neighbors import KNeighborsClassifier\n",
    "\n",
    "clf = RandomForestClassifier(n_estimators=10,n_jobs=2)\n",
    "# clf = SVC(kernel='linear', C=1.0, random_state=0)\n",
    "# clf = KNeighborsClassifier()\n",
    "clf.fit(x_train, y_train.astype(int))"
   ]
  },
  {
   "cell_type": "code",
   "execution_count": null,
   "id": "d61430e7-5878-48b7-b825-199846fafb47",
   "metadata": {},
   "outputs": [],
   "source": [
    "y_pred = clf.predict(x_test)"
   ]
  },
  {
   "cell_type": "code",
   "execution_count": null,
   "id": "1ecce74b-2ed6-4458-bbf1-8e8782db4b88",
   "metadata": {},
   "outputs": [],
   "source": [
    "pd.crosstab(y_test, y_pred, rownames=['Actual attacks'], colnames=['Predicted attacks'])"
   ]
  },
  {
   "cell_type": "code",
   "execution_count": null,
   "id": "da8f39b5-68bc-4128-a1a2-0e11398c8537",
   "metadata": {},
   "outputs": [],
   "source": [
    "from sklearn.model_selection import cross_val_score\n",
    "from sklearn import metrics\n",
    "# accuracy = cross_val_score(clf, x_test, y_test, cv=10, scoring='accuracy')\n",
    "# print(\"Accuracy: %0.5f (+/- %0.5f)\" % (accuracy.mean(), accuracy.std() * 2))\n",
    "# precision = cross_val_score(clf, x_test, y_test, cv=10, scoring='precision')\n",
    "# print(\"Precision: %0.5f (+/- %0.5f)\" % (precision.mean(), precision.std() * 2))\n",
    "# recall = cross_val_score(clf, x_test, y_test, cv=10, scoring='recall')\n",
    "# print(\"Recall: %0.5f (+/- %0.5f)\" % (recall.mean(), recall.std() * 2))\n",
    "# f = cross_val_score(clf, x_test, y_test, cv=10, scoring='f1')\n",
    "# print(\"F-measure: %0.5f (+/- %0.5f)\" % (f.mean(), f.std() * 2))\n",
    "accuracy_score = metrics.accuracy_score(y_test, y_pred)\n",
    "print(\"Accuracy score: %0.5f\" % (accuracy_score))\n",
    "recall_score = metrics.recall_score(y_test, y_pred)\n",
    "print(\"Recall score: %0.5f\" % (recall_score))\n",
    "precision_score = metrics.precision_score(y_test, y_pred)\n",
    "print(\"Precision score: %0.5f\" % (precision_score))\n",
    "f_score = metrics.f1_score(y_test, y_pred)\n",
    "print(\"F1 score: %0.5f\" % (f_score))"
   ]
  },
  {
   "cell_type": "code",
   "execution_count": null,
   "id": "9c33f8e3-84ee-48b1-8ecc-e95b6f70e05f",
   "metadata": {},
   "outputs": [],
   "source": [
    "from modAL.models import ActiveLearner\n",
    "from modAL.uncertainty import uncertainty_sampling, margin_sampling\n",
    "\n",
    "from IPython import display\n",
    "from matplotlib import pyplot as plt\n",
    "%matplotlib inline"
   ]
  },
  {
   "cell_type": "code",
   "execution_count": null,
   "id": "a32bc1a3-78f7-47d4-b4fd-164de29e2436",
   "metadata": {},
   "outputs": [],
   "source": [
    "y_train = y_train.to_numpy()\n",
    "y_test = y_test.to_numpy()"
   ]
  },
  {
   "cell_type": "code",
   "execution_count": null,
   "id": "6e38d1aa-c346-4f5d-a696-ae656e720563",
   "metadata": {},
   "outputs": [],
   "source": [
    "from sklearn.svm import SVC\n",
    "from sklearn.ensemble import RandomForestClassifier\n",
    "from sklearn.naive_bayes import GaussianNB\n",
    "from sklearn import metrics\n",
    "\n",
    "n_initial = 200\n",
    "\n",
    "initial_idx = np.random.choice(range(len(x_train)), size=n_initial, replace=False)\n",
    "\n",
    "x_initial, y_initial = x_train[initial_idx], y_train[initial_idx]\n",
    "x_pool, y_pool = np.delete(x_train, initial_idx, axis=0), np.delete(y_train, initial_idx, axis=0)\n",
    "\n",
    "learner = ActiveLearner(\n",
    "    estimator=RandomForestClassifier(n_estimators=10, n_jobs=-1),\n",
    "    query_strategy=margin_sampling,\n",
    "    X_training=x_initial, y_training=y_initial\n",
    ")\n",
    "\n",
    "n_queries = 500\n",
    "\n",
    "pred = learner.predict(x_test)\n",
    "\n",
    "accuracy_scores = [learner.score(x_test, y_test)]\n",
    "f1_scores = [metrics.f1_score(y_test, pred)]\n",
    "precision_scores = [metrics.precision_score(y_test, pred)]\n",
    "recall_scores = [metrics.recall_score(y_test, pred)]"
   ]
  },
  {
   "cell_type": "code",
   "execution_count": null,
   "id": "84baad8f-a943-466e-a37d-56635f22578d",
   "metadata": {},
   "outputs": [],
   "source": [
    "for i in range(n_queries):\n",
    "    display.clear_output(wait=True)\n",
    "    query_idx, query_inst = learner.query(x_pool)\n",
    "    \n",
    "    \n",
    "    with plt.style.context('seaborn-white'):\n",
    "        plt.figure(figsize=(15, 10))\n",
    "        plt.subplot(2, 2, 1)\n",
    "        plt.title('Accuracy of your model')\n",
    "        plt.plot(range(i+1), accuracy_scores, label='accuracy')\n",
    "        plt.scatter(range(i+1), accuracy_scores)\n",
    "        plt.xlabel('number of queries')\n",
    "        plt.ylabel('accuracy')\n",
    "        plt.subplot(2, 2, 2)\n",
    "        plt.title('F1 of your model')\n",
    "        plt.plot(range(i+1), f1_scores, label='f1')\n",
    "        plt.scatter(range(i+1), f1_scores)\n",
    "        plt.xlabel('number of queries')\n",
    "        plt.ylabel('f1')\n",
    "        plt.subplot(2, 2, 3)\n",
    "        plt.title('Precision of your model')\n",
    "        plt.plot(range(i+1), precision_scores, label='precision')\n",
    "        plt.scatter(range(i+1), precision_scores)\n",
    "        plt.xlabel('number of queries')\n",
    "        plt.ylabel('precision')\n",
    "        plt.subplot(2, 2, 4)\n",
    "        plt.title('Recall of your model')\n",
    "        plt.plot(range(i+1), recall_scores, label='recall')\n",
    "        plt.scatter(range(i+1), recall_scores)\n",
    "        plt.xlabel('number of queries')\n",
    "        plt.ylabel('recall')\n",
    "        display.display(plt.gcf())\n",
    "        plt.close('all')\n",
    "    \n",
    "    pred = learner.predict(query_inst)\n",
    "    actual = y_pool[query_idx]\n",
    "    print('Prediction: {}'.format(pred))\n",
    "    print('Actual: {}'.format(actual))\n",
    "\n",
    "    # If you want to use Human-in-the-loop version, uncomment it and comment out automated version block.\n",
    "    \n",
    "    #Human-in-the-Loop version:\n",
    "#     print(\"Is it correct (+) or false (-)?\")\n",
    "#     print(\"Is it normal (0) or anomaly (1)?\")\n",
    "#     if input() == '+':\n",
    "#         y_new = np.array(pred, dtype=int)\n",
    "#     else:\n",
    "#         y_new = np.array(actual, dtype=int)\n",
    "\n",
    "    # Automated version for experiments with large number of queries:\n",
    "    y_new = np.array(actual, dtype=int)\n",
    "    learner.teach(query_inst, y_new)\n",
    "    x_pool, y_pool = np.delete(x_pool, query_idx, axis=0), np.delete(y_pool, query_idx, axis=0)\n",
    "    \n",
    "    accuracy_scores.append(learner.score(x_test, y_test))\n",
    "    pred = learner.predict(x_test)\n",
    "    f1_scores.append(metrics.f1_score(y_test, pred))\n",
    "    precision_scores.append(metrics.precision_score(y_test, pred))\n",
    "    recall_scores.append(metrics.recall_score(y_test, pred))\n",
    "    \n",
    "with plt.style.context('seaborn-white'):\n",
    "    plt.figure(figsize=(10, 5))\n",
    "    plt.title('Accuracy of the classifier during the active learning')\n",
    "    plt.plot(range(n_queries+1), accuracy_scores, label='accuracy')\n",
    "    plt.scatter(range(n_queries+1), accuracy_scores)\n",
    "    plt.xlabel('number of queries')\n",
    "    plt.ylabel('accuracy')\n",
    "    plt.show()\n",
    "with plt.style.context('seaborn-white'):\n",
    "    plt.figure(figsize=(10, 5))\n",
    "    plt.title('Precision of the classifier during the active learning')\n",
    "    plt.plot(range(n_queries+1), precision_scores, label='precision')\n",
    "    plt.scatter(range(n_queries+1), precision_scores)\n",
    "    plt.xlabel('number of queries')\n",
    "    plt.ylabel('precision')\n",
    "    plt.show()\n",
    "with plt.style.context('seaborn-white'):\n",
    "    plt.figure(figsize=(10, 5))\n",
    "    plt.title('F1 of the classifier during the active learning')\n",
    "    plt.plot(range(n_queries+1), f1_scores, label='f1')\n",
    "    plt.scatter(range(n_queries+1), f1_scores)\n",
    "    plt.xlabel('number of queries')\n",
    "    plt.ylabel('F1')\n",
    "    plt.show()\n",
    "with plt.style.context('seaborn-white'):\n",
    "    plt.figure(figsize=(10, 5))\n",
    "    plt.title('Recall of the classifier during the active learning')\n",
    "    plt.plot(range(n_queries+1), recall_scores, label='recall')\n",
    "    plt.scatter(range(n_queries+1), recall_scores)\n",
    "    plt.xlabel('number of queries')\n",
    "    plt.ylabel('recall')\n",
    "    plt.show()"
   ]
  },
  {
   "cell_type": "code",
   "execution_count": null,
   "id": "d9ee082a-abf4-485c-b190-ec737caaeda9",
   "metadata": {},
   "outputs": [],
   "source": []
  }
 ],
 "metadata": {
  "kernelspec": {
   "display_name": "Python 3",
   "language": "python",
   "name": "python3"
  },
  "language_info": {
   "codemirror_mode": {
    "name": "ipython",
    "version": 3
   },
   "file_extension": ".py",
   "mimetype": "text/x-python",
   "name": "python",
   "nbconvert_exporter": "python",
   "pygments_lexer": "ipython3",
   "version": "3.8.10"
  }
 },
 "nbformat": 4,
 "nbformat_minor": 5
}
